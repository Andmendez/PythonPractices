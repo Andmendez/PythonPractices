{
  "nbformat": 4,
  "nbformat_minor": 0,
  "metadata": {
    "colab": {
      "provenance": [],
      "authorship_tag": "ABX9TyOY0N0o44f7drjnG8WxfbIh",
      "include_colab_link": true
    },
    "kernelspec": {
      "name": "python3",
      "display_name": "Python 3"
    },
    "language_info": {
      "name": "python"
    }
  },
  "cells": [
    {
      "cell_type": "markdown",
      "metadata": {
        "id": "view-in-github",
        "colab_type": "text"
      },
      "source": [
        "<a href=\"https://colab.research.google.com/github/Andmendez/PythonPractices/blob/main/pip.ipynb\" target=\"_parent\"><img src=\"https://colab.research.google.com/assets/colab-badge.svg\" alt=\"Open In Colab\"/></a>"
      ]
    },
    {
      "cell_type": "markdown",
      "source": [
        "**<h1>Python Practice</h1>**"
      ],
      "metadata": {
        "id": "kc1gaVxfl91a"
      }
    },
    {
      "cell_type": "markdown",
      "source": [
        "<h3>Imprimir en Pantalla</h3>"
      ],
      "metadata": {
        "id": "3D-8xvLgmEOl"
      }
    },
    {
      "cell_type": "code",
      "source": [
        "print(\"Hello World!!!\")\n",
        "\n",
        "print(1)\n",
        "\n",
        "print(2.3)\n",
        "\n",
        "print(True)\n",
        "\n",
        "print(None)"
      ],
      "metadata": {
        "colab": {
          "base_uri": "https://localhost:8080/"
        },
        "id": "JnEGgbl5lWVe",
        "outputId": "760246ec-7663-4839-b011-bdbdc6f50a16"
      },
      "execution_count": 7,
      "outputs": [
        {
          "output_type": "stream",
          "name": "stdout",
          "text": [
            "Hello World!!!\n",
            "1\n",
            "2.3\n",
            "True\n",
            "None\n"
          ]
        }
      ]
    },
    {
      "cell_type": "markdown",
      "source": [
        "<h3>Almacenar una variable</h3>"
      ],
      "metadata": {
        "id": "79fyfhLDmgzW"
      }
    },
    {
      "cell_type": "code",
      "source": [
        "x = 2\n",
        "y = 1\n",
        "z = 3\n",
        "\n",
        "x = z\n",
        "\n",
        "print(x)"
      ],
      "metadata": {
        "colab": {
          "base_uri": "https://localhost:8080/"
        },
        "id": "vNT6HAfVlYLv",
        "outputId": "9d44684d-1961-4a79-ae19-ee65013da1c9"
      },
      "execution_count": 8,
      "outputs": [
        {
          "output_type": "stream",
          "name": "stdout",
          "text": [
            "3\n"
          ]
        }
      ]
    },
    {
      "cell_type": "code",
      "source": [],
      "metadata": {
        "id": "ar12l8GlllJF"
      },
      "execution_count": null,
      "outputs": []
    }
  ]
}
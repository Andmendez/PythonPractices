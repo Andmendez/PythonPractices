{
  "cells": [
    {
      "cell_type": "markdown",
      "metadata": {
        "colab_type": "text",
        "id": "view-in-github"
      },
      "source": [
        "<a href=\"https://colab.research.google.com/github/Andmendez/PythonPractices/blob/main/pip.ipynb\" target=\"_parent\"><img src=\"https://colab.research.google.com/assets/colab-badge.svg\" alt=\"Open In Colab\"/></a>"
      ]
    },
    {
      "cell_type": "markdown",
      "metadata": {
        "id": "kc1gaVxfl91a"
      },
      "source": [
        "**<h1>Python Practice</h1>**"
      ]
    },
    {
      "cell_type": "markdown",
      "metadata": {
        "id": "3D-8xvLgmEOl"
      },
      "source": [
        "<h3>Imprimir en Pantalla</h3>"
      ]
    },
    {
      "cell_type": "code",
      "execution_count": null,
      "metadata": {
        "colab": {
          "base_uri": "https://localhost:8080/"
        },
        "id": "JnEGgbl5lWVe",
        "outputId": "760246ec-7663-4839-b011-bdbdc6f50a16",
        "vscode": {
          "languageId": "polyglot-notebook"
        }
      },
      "outputs": [],
      "source": [
        "print(\"Hello World!!!\")\n",
        "\n",
        "print(1)\n",
        "\n",
        "print(2.3)\n",
        "\n",
        "print(True)\n",
        "\n",
        "print(None)"
      ]
    },
    {
      "cell_type": "markdown",
      "metadata": {
        "id": "79fyfhLDmgzW"
      },
      "source": [
        "<h3>Almacenar una variable</h3>"
      ]
    },
    {
      "cell_type": "code",
      "execution_count": null,
      "metadata": {
        "colab": {
          "base_uri": "https://localhost:8080/"
        },
        "id": "vNT6HAfVlYLv",
        "outputId": "9d44684d-1961-4a79-ae19-ee65013da1c9",
        "vscode": {
          "languageId": "polyglot-notebook"
        }
      },
      "outputs": [],
      "source": [
        "x = 2\n",
        "y = 1\n",
        "z = 3\n",
        "\n",
        "x = z\n",
        "\n",
        "print(x)"
      ]
    },
    {
      "cell_type": "code",
      "execution_count": null,
      "metadata": {
        "id": "ar12l8GlllJF",
        "vscode": {
          "languageId": "polyglot-notebook"
        }
      },
      "outputs": [],
      "source": []
    }
  ],
  "metadata": {
    "colab": {
      "authorship_tag": "ABX9TyOY0N0o44f7drjnG8WxfbIh",
      "include_colab_link": true,
      "provenance": []
    },
    "kernelspec": {
      "display_name": ".NET (C#)",
      "language": "C#",
      "name": ".net-csharp"
    },
    "language_info": {
      "name": "python"
    },
    "polyglot_notebook": {
      "kernelInfo": {
        "defaultKernelName": "csharp",
        "items": [
          {
            "aliases": [],
            "name": "csharp"
          }
        ]
      }
    }
  },
  "nbformat": 4,
  "nbformat_minor": 0
}
